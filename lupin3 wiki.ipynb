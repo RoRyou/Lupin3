{
 "cells": [
  {
   "cell_type": "code",
   "execution_count": 3,
   "id": "66e86216",
   "metadata": {},
   "outputs": [
    {
     "name": "stdout",
     "output_type": "stream",
     "text": [
      "(699, 11)\n"
     ]
    }
   ],
   "source": [
    "import lupin3\n",
    "import pandas as pd\n",
    "import numpy as np\n",
    "\n",
    "\n",
    "#dataset\n",
    " \n",
    "column_names = ['Sample code number', 'Clump Thickness', 'Uniformity of Cell Size', 'Uniformity of Cell Shape',\n",
    "                'Marginal Adhesion', 'Single Epithelial Cell Size', 'Bare Nuclei', 'Bland Chromatin', 'Normal Nucleoli',\n",
    "                'Mitoses', 'Class']\n",
    "# read the data\n",
    "data = pd.read_csv(\n",
    "    \"https://archive.ics.uci.edu/ml/machine-learning-databases/breast-cancer-wisconsin/breast-cancer-wisconsin.data\",\n",
    "    names=column_names)\n",
    "# print(data)\n",
    "print(data.shape)"
   ]
  },
  {
   "cell_type": "code",
   "execution_count": 4,
   "id": "45ee889e",
   "metadata": {},
   "outputs": [
    {
     "name": "stdout",
     "output_type": "stream",
     "text": [
      "Index(['Sample code number', 'Clump Thickness', 'Uniformity of Cell Size',\n",
      "       'Uniformity of Cell Shape', 'Marginal Adhesion',\n",
      "       'Single Epithelial Cell Size', 'Bare Nuclei', 'Bland Chromatin',\n",
      "       'Normal Nucleoli', 'Mitoses', 'Class'],\n",
      "      dtype='object')\n"
     ]
    }
   ],
   "source": [
    "\n",
    "# replace none value\n",
    "data = data.replace(to_replace='?', value=np.nan)\n",
    "data = data.dropna()  \n",
    "print(data.columns)"
   ]
  },
  {
   "cell_type": "code",
   "execution_count": 5,
   "id": "9c2f42b8",
   "metadata": {},
   "outputs": [
    {
     "name": "stdout",
     "output_type": "stream",
     "text": [
      "直接计算准确率为:\n",
      " 0.9532163742690059\n",
      "[2, 4]\n",
      "精确率与召回率为:\n",
      "               precision    recall  f1-score   support\n",
      "\n",
      "           2       0.95      0.97      0.96        97\n",
      "           4       0.96      0.93      0.95        74\n",
      "\n",
      "    accuracy                           0.95       171\n",
      "   macro avg       0.95      0.95      0.95       171\n",
      "weighted avg       0.95      0.95      0.95       171\n",
      "\n",
      "AUCpredict值:\n",
      " 0.950752298690443\n",
      "AUCproba值:\n",
      " 0.5476455837280579\n"
     ]
    }
   ],
   "source": [
    "lupin3.ML_LogisticRegression_train(data,\"Class\",savefilename='lg01.pickle')\n"
   ]
  },
  {
   "cell_type": "code",
   "execution_count": 6,
   "id": "16677c0e",
   "metadata": {},
   "outputs": [
    {
     "name": "stdout",
     "output_type": "stream",
     "text": [
      "[4]\n"
     ]
    }
   ],
   "source": [
    "lupin3.ML_predict('lg01.pickle',data.iloc[0][:-1])\n"
   ]
  },
  {
   "cell_type": "code",
   "execution_count": 7,
   "id": "86dd7852",
   "metadata": {},
   "outputs": [
    {
     "name": "stdout",
     "output_type": "stream",
     "text": [
      "F-score: 0.98\n"
     ]
    }
   ],
   "source": [
    "lupin3.ML_SVM_train(data,\"Class\",savefilename='svm01.pickle')\n"
   ]
  },
  {
   "cell_type": "code",
   "execution_count": 8,
   "id": "c9646945",
   "metadata": {},
   "outputs": [
    {
     "name": "stdout",
     "output_type": "stream",
     "text": [
      "[4]\n"
     ]
    }
   ],
   "source": [
    "lupin3.ML_predict('svm01.pickle',data.iloc[0][:-1])"
   ]
  },
  {
   "cell_type": "code",
   "execution_count": null,
   "id": "af371871",
   "metadata": {},
   "outputs": [],
   "source": []
  },
  {
   "cell_type": "code",
   "execution_count": null,
   "id": "aa5cac85",
   "metadata": {},
   "outputs": [],
   "source": []
  },
  {
   "cell_type": "code",
   "execution_count": null,
   "id": "49d2f011",
   "metadata": {},
   "outputs": [],
   "source": []
  }
 ],
 "metadata": {
  "kernelspec": {
   "display_name": "Python [conda env:ml]",
   "language": "python",
   "name": "conda-env-ml-py"
  },
  "language_info": {
   "codemirror_mode": {
    "name": "ipython",
    "version": 3
   },
   "file_extension": ".py",
   "mimetype": "text/x-python",
   "name": "python",
   "nbconvert_exporter": "python",
   "pygments_lexer": "ipython3",
   "version": "3.8.12"
  }
 },
 "nbformat": 4,
 "nbformat_minor": 5
}
